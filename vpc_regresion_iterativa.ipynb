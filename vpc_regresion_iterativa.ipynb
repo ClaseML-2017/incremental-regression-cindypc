{
 "cells": [
  {
   "cell_type": "markdown",
   "metadata": {},
   "source": [
    "# Regresión Lineal: Metodo Iterativo\n",
    "### Valeria Pérez Cong Sánchez 145009"
   ]
  },
  {
   "cell_type": "code",
   "execution_count": 135,
   "metadata": {
    "collapsed": true
   },
   "outputs": [],
   "source": [
    "import os\n",
    "import io\n",
    "import numpy as np\n",
    "import matplotlib.pyplot as plt\n",
    "import pandas as pd\n",
    "import csv\n",
    "from sklearn import linear_model\n",
    "from sklearn.model_selection import train_test_split\n",
    "from sklearn.metrics import confusion_matrix\n",
    "from scipy.stats import norm\n",
    "from sklearn import preprocessing\n",
    "from random import random\n",
    "import math\n",
    "from sklearn import datasets, linear_model\n",
    "\n",
    "from sklearn.linear_model import LinearRegression\n",
    "from sklearn import metrics\n",
    "from sklearn.metrics import mean_squared_error, r2_score\n",
    "%matplotlib inline\n",
    "\n",
    "\n",
    "reglin=pd.read_csv(\"/Users/valeriaperezcong/Desktop/ITAM/9/aprendizaje/udemy/DataScience-Python3/incremental_lr/regLin.csv\")\n"
   ]
  },
  {
   "cell_type": "code",
   "execution_count": 136,
   "metadata": {
    "collapsed": false
   },
   "outputs": [
    {
     "data": {
      "text/html": [
       "<div>\n",
       "<table border=\"1\" class=\"dataframe\">\n",
       "  <thead>\n",
       "    <tr style=\"text-align: right;\">\n",
       "      <th></th>\n",
       "      <th>X</th>\n",
       "      <th>y</th>\n",
       "    </tr>\n",
       "  </thead>\n",
       "  <tbody>\n",
       "    <tr>\n",
       "      <th>count</th>\n",
       "      <td>1029.000000</td>\n",
       "      <td>1029.000000</td>\n",
       "    </tr>\n",
       "    <tr>\n",
       "      <th>mean</th>\n",
       "      <td>50.008111</td>\n",
       "      <td>32.893917</td>\n",
       "    </tr>\n",
       "    <tr>\n",
       "      <th>std</th>\n",
       "      <td>29.055066</td>\n",
       "      <td>18.083566</td>\n",
       "    </tr>\n",
       "    <tr>\n",
       "      <th>min</th>\n",
       "      <td>0.030369</td>\n",
       "      <td>-4.586608</td>\n",
       "    </tr>\n",
       "    <tr>\n",
       "      <th>25%</th>\n",
       "      <td>25.201087</td>\n",
       "      <td>17.583093</td>\n",
       "    </tr>\n",
       "    <tr>\n",
       "      <th>50%</th>\n",
       "      <td>50.884987</td>\n",
       "      <td>33.564129</td>\n",
       "    </tr>\n",
       "    <tr>\n",
       "      <th>75%</th>\n",
       "      <td>75.636823</td>\n",
       "      <td>48.339811</td>\n",
       "    </tr>\n",
       "    <tr>\n",
       "      <th>max</th>\n",
       "      <td>99.959580</td>\n",
       "      <td>71.762748</td>\n",
       "    </tr>\n",
       "  </tbody>\n",
       "</table>\n",
       "</div>"
      ],
      "text/plain": [
       "                 X            y\n",
       "count  1029.000000  1029.000000\n",
       "mean     50.008111    32.893917\n",
       "std      29.055066    18.083566\n",
       "min       0.030369    -4.586608\n",
       "25%      25.201087    17.583093\n",
       "50%      50.884987    33.564129\n",
       "75%      75.636823    48.339811\n",
       "max      99.959580    71.762748"
      ]
     },
     "execution_count": 136,
     "metadata": {},
     "output_type": "execute_result"
    }
   ],
   "source": [
    "reglin.describe()"
   ]
  },
  {
   "cell_type": "code",
   "execution_count": 137,
   "metadata": {
    "collapsed": true
   },
   "outputs": [],
   "source": [
    "#n Implementar LMS en Python\n",
    "#n Probar con reglin.csv con h= 0.05\n",
    "#n Graficar como va cambiando el error para cada w\n",
    "#n Pruebe enstandarizar los datos\n",
    "#n Repita el experimento para h= 0.1 y 1\n",
    "#n Escriba sus observaciones"
   ]
  },
  {
   "cell_type": "markdown",
   "metadata": {},
   "source": [
    "## Separamos el set y normalizamos los datos"
   ]
  },
  {
   "cell_type": "code",
   "execution_count": 138,
   "metadata": {
    "collapsed": false
   },
   "outputs": [
    {
     "data": {
      "image/png": "[encoded data removed]",
      "text/plain": [
       "<matplotlib.figure.Figure at 0x1167a0240>"
      ]
     },
     "metadata": {},
     "output_type": "display_data"
    }
   ],
   "source": [
    "#Separamos el set\n",
    "X_train, X_test, y_train, y_test=train_test_split(reglin[['X']],reglin[['y']],test_size=0.25)\n",
    "\n",
    "#Convertimos en numpy array\n",
    "X_train, X_test, y_train, y_test = np.array(X_train), np.array(X_test), np.array(y_train), np.array(y_test)\n",
    "\n",
    "#graficamos\n",
    "plt.plot(X_train, y_train, 'bo')\n",
    "plt.show()"
   ]
  },
  {
   "cell_type": "code",
   "execution_count": 139,
   "metadata": {
    "collapsed": true
   },
   "outputs": [],
   "source": [
    "#Normalizamos el set de X\n",
    "scaler = preprocessing.StandardScaler().fit(X_train)\n",
    "X_train=scaler.transform(X_train)\n",
    "X_test=scaler.transform(X_test)\n",
    "\n",
    "#Normalizamos el set de Y\n",
    "#y_train, y_test\n",
    "scaler_y = preprocessing.StandardScaler().fit(y_train)\n",
    "\n",
    "y_train=scaler_y.transform(y_train)\n",
    "y_test=scaler_y.transform(y_test)"
   ]
  },
  {
   "cell_type": "code",
   "execution_count": 140,
   "metadata": {
    "collapsed": false
   },
   "outputs": [],
   "source": [
    "#osea para una specific row y un arreglo de coef\n",
    "#recorres el renglón y haces una predicción para cada xi según b0 y b1\n",
    "def predict (row, coeficientes):\n",
    "    y_pred=coeficientes[0] #y_pred=b0\n",
    "    for i in range (len(row)-1): #range ==(0,1) porque len(row)=2\n",
    "        y_pred= y_pred + coeficientes[i+1]*row[i]#row[i] es mi xi\n",
    "        #y_pred=b0 + b1*x1        \n",
    "    return y_pred\n",
    "\n",
    "#juntamos la x y la y en un solo set de entrenamiento \n",
    "dataset=np.concatenate((X_train,y_train), axis=1)\n",
    "\n",
    "#coeficientes=[1,1]\n",
    "coeficientes=np.ones((len(X_train[0]))+1 )## coef==[1,1]\n",
    "for row in dataset: #para cada renglon del set\n",
    "    y_pred=predict(row,coeficientes)\n",
    "    y_real=row[1]\n",
    "    error=y_real-y_pred\n",
    "    #print(\"Expected=%.3f, Predicted=%.3f\" % (y_real, y_pred))\n",
    "    #print(\"Error=%.3f\" % (error))\n",
    "    #print(row)\n",
    "    #print(\"x=%.3f, y=%.3f\" % (row[0],row[1]))\n",
    "\n",
    "#tenemos que hacer una función que actualize los coeficientes para cada renglón del training data\n",
    "#para lograrlo tenemos que calcular el error entre el valor real de y, y el\n",
    "#valor predicho\n",
    "\n",
    "#error = predicción - valor_real\n",
    "#b1(t) = b1(t-1) + learning_rate * error(t-1) * x1(t-1)\n",
    "#b0(t) = b0(t-1) - learning_rate * error(t-1) #vemos que no hay x en b0\n",
    "\n",
    "def calcular_coeficientes (data,learning_rate):\n",
    "    #coeficientes=[1,1]\n",
    "    coeficientes=np.ones((len(X_train[0]))+1 )## coef==[1,1]\n",
    "    sum_error=0\n",
    "    b1=[]\n",
    "    errores=[]\n",
    "    for row in data:\n",
    "        y_pred=predict(row,coeficientes)\n",
    "        y_real=row[1]\n",
    "        error=y_real-y_pred\n",
    "        sum_error=sum_error + error**2\n",
    "        coeficientes[0]=coeficientes[0]+learning_rate*error #i.e b0= b0+learning_rate*error\n",
    "        \n",
    "        for i in range(len(row)-1):\n",
    "            coeficientes[i+1]=coeficientes[i+1]+learning_rate*error*row[i] #i.e b1=b1+lr*error*x\n",
    "    return coeficientes\n",
    "            "
   ]
  },
  {
   "cell_type": "markdown",
   "metadata": {},
   "source": [
    "## Coeficientes w0 y w1 con learning_rate de 0.01"
   ]
  },
  {
   "cell_type": "code",
   "execution_count": 148,
   "metadata": {
    "collapsed": false
   },
   "outputs": [
    {
     "name": "stdout",
     "output_type": "stream",
     "text": [
      "[ 0.02118372  0.96691986]\n"
     ]
    }
   ],
   "source": [
    "print (calcular_coeficientes (dataset,0.01))"
   ]
  },
  {
   "cell_type": "markdown",
   "metadata": {},
   "source": [
    "## Coeficientes w0 y w1 con learning_rate de 0.05"
   ]
  },
  {
   "cell_type": "code",
   "execution_count": 141,
   "metadata": {
    "collapsed": false
   },
   "outputs": [
    {
     "name": "stdout",
     "output_type": "stream",
     "text": [
      "[ 0.02686413  1.00027268]\n"
     ]
    }
   ],
   "source": [
    "print (calcular_coeficientes (dataset,0.05))"
   ]
  },
  {
   "cell_type": "markdown",
   "metadata": {},
   "source": [
    "## Coeficientes w0 y w1 con learning_rate de 0.1"
   ]
  },
  {
   "cell_type": "code",
   "execution_count": 142,
   "metadata": {
    "collapsed": false
   },
   "outputs": [
    {
     "name": "stdout",
     "output_type": "stream",
     "text": [
      "[ 0.02118372  0.96691986]\n"
     ]
    }
   ],
   "source": [
    "print (calcular_coeficientes (dataset,0.01))"
   ]
  },
  {
   "cell_type": "markdown",
   "metadata": {},
   "source": [
    "## Coeficientes w0 y w1 con learning_rate de 1"
   ]
  },
  {
   "cell_type": "code",
   "execution_count": 143,
   "metadata": {
    "collapsed": false
   },
   "outputs": [
    {
     "name": "stdout",
     "output_type": "stream",
     "text": [
      "[-44.21657014  47.49897987]\n"
     ]
    }
   ],
   "source": [
    "print (calcular_coeficientes (dataset,1))"
   ]
  },
  {
   "cell_type": "markdown",
   "metadata": {},
   "source": [
    "## Comparamos los resultados con los de una regresión lineal \"normal\""
   ]
  },
  {
   "cell_type": "code",
   "execution_count": 144,
   "metadata": {
    "collapsed": false
   },
   "outputs": [
    {
     "name": "stdout",
     "output_type": "stream",
     "text": [
      "Intercepto w0: \n",
      " [ -4.51503818e-17]\n",
      "Coeficiente w1: \n",
      " [[ 0.97301576]]\n"
     ]
    }
   ],
   "source": [
    "## Hacemos el fit del modelo con la train set\n",
    "lm=linear_model.LinearRegression()\n",
    "#entrenamos\n",
    "modelo=lm.fit(X_train,y_train)\n",
    "#Los coeficientes \n",
    "print('Intercepto w0: \\n', lm.intercept_)\n",
    "print('Coeficiente w1: \\n', lm.coef_)\n"
   ]
  },
  {
   "cell_type": "markdown",
   "metadata": {},
   "source": [
    "Podemos ver que w1 sí se acerca a los valores de una regresión lineal \"normal\" cuando el learning_rate es 0.01 o 0.1. "
   ]
  },
  {
   "cell_type": "code",
   "execution_count": null,
   "metadata": {
    "collapsed": true
   },
   "outputs": [],
   "source": []
  }
 ],
 "metadata": {
  "kernelspec": {
   "display_name": "Python 3",
   "language": "python",
   "name": "python3"
  },
  "language_info": {
   "codemirror_mode": {
    "name": "ipython",
    "version": 3
   },
   "file_extension": ".py",
   "mimetype": "text/x-python",
   "name": "python",
   "nbconvert_exporter": "python",
   "pygments_lexer": "ipython3",
   "version": "3.5.2"
  }
 },
 "nbformat": 4,
 "nbformat_minor": 2
}
